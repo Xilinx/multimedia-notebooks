{
 "cells": [
  {
   "cell_type": "markdown",
   "metadata": {},
   "source": [
    "# Video Decode Unit (VDU) Demo Example: STREAM_IN-> DECODE -> FAKESINK "
   ]
  },
  {
   "cell_type": "markdown",
   "metadata": {},
   "source": [
    "# Introduction\n",
    "\n",
    "Video Decode Unit (VDU) in Versal SOC is capable of decoding AVC/HEVC compressed video streams in real time. \n",
    "\n",
    "This notebook example acts as Client pipeline in streaming use case. It needs to be run along with Server. It receives encoded data over network, decode using VDU and render it on DP/HDMI Monitor.\n"
   ]
  },
  {
   "cell_type": "markdown",
   "metadata": {},
   "source": [
    "# Implementation Details\n",
    "\n",
    "<img src=\"pictures/block-diagram-streamin-decode.png\" align=\"center\" alt=\"Drawing\" style=\"width: 600px; height: 200px\"/>\n",
    "\n",
    "This example requires two boards, board-1 is used for transcode and stream-out (as a server) and **board 2** is used for streaming-in and decode purpose (as a client) or VLC player on the host machine can be used as client instead of board-2 (More details regarding Test Setup for board-1 can be found in transcode → stream-out Example).\n",
    "\n",
    "__Note:__ This notebook needs to be run along with \"vcu-demo-transcode-to-streamout.ipynb\" or \"vcu-demo-camera-encode-streamout.ipynb\". The configuration settings below are for Client-side pipeline. \n",
    "\n",
    "### Board Setup\n",
    "**Board 2 is used for streaming-in and decode purpose (as a client)**\n",
    " 1. Connect 4k DP/HDMI display to board.\n",
    " 2. Connect serial cable to monitor logs on serial console.\n",
    " 3. If Board is connected to private network, then export proxy settings in /home/root/.bashrc file on board as below,\n",
    "    - create/open a bashrc file using \"vi ~/.bashrc\" \n",
    "        - Insert below line to bashrc file\n",
    "            - export http_proxy=\"< private network proxy address >\"\n",
    "            - export https_proxy=\"< private network proxy address >\"\n",
    "        - Save and close bashrc file.\n",
    " 4. Connect two boards in the same network so that they can access each other using IP address.\n",
    " 5. Check server IP on server board.\n",
    "    - root@zcu106-zynqmp:~#ifconfig\n",
    " 6. Check client IP.\n",
    " 7. Check connectivity for board-1 & board-2.\n",
    "    - root@zcu106-zynqmp:~#ping <board-2's IP>\n",
    " 8. Run stream-in → Decode on board-2\n",
    " \n",
    "Create test.sdp file on host with below content (Add separate line in test.sdp for each item below) and play test.sdp on host machine.\n",
    " 1. v=0 c=IN IP4 <Client machine IP address>\n",
    " 2. m=video 50000 RTP/AVP 96\n",
    " 3. a=rtpmap:96 H264/90000\n",
    " 4. a=framerate=30\n",
    "    \n",
    "Trouble-shoot for VLC player setup:\n",
    " 1. IP4 is client-IP address\n",
    " 2. H264/H265 is used based on received codec type on the client\n",
    " 3. Turn-off firewall in host machine if packets are not received to VLC."
   ]
  },
  {
   "cell_type": "code",
   "execution_count": 1,
   "metadata": {},
   "outputs": [
    {
     "data": {
      "text/html": [
       "<script>\n",
       "code_show=true; \n",
       "function code_toggle() {\n",
       " if (code_show){\n",
       " $('div.input').hide();\n",
       " } else {\n",
       " $('div.input').show();\n",
       " }\n",
       " code_show = !code_show\n",
       "} \n",
       "$( document ).ready(code_toggle);\n",
       "</script>\n",
       "<form action=\"javascript:code_toggle()\"><input type=\"submit\" value=\"Click here to toggle on/off the raw code.\"></form>"
      ],
      "text/plain": [
       "<IPython.core.display.HTML object>"
      ]
     },
     "execution_count": 1,
     "metadata": {},
     "output_type": "execute_result"
    }
   ],
   "source": [
    "from IPython.display import HTML\n",
    "\n",
    "HTML('''<script>\n",
    "code_show=true; \n",
    "function code_toggle() {\n",
    " if (code_show){\n",
    " $('div.input').hide();\n",
    " } else {\n",
    " $('div.input').show();\n",
    " }\n",
    " code_show = !code_show\n",
    "} \n",
    "$( document ).ready(code_toggle);\n",
    "</script>\n",
    "<form action=\"javascript:code_toggle()\"><input type=\"submit\" value=\"Click here to toggle on/off the raw code.\"></form>''')"
   ]
  },
  {
   "cell_type": "markdown",
   "metadata": {},
   "source": [
    "# Run the Demo"
   ]
  },
  {
   "cell_type": "code",
   "execution_count": 2,
   "metadata": {},
   "outputs": [],
   "source": [
    "from ipywidgets import interact\n",
    "import ipywidgets as widgets\n",
    "from common import common_vdu_demo_streamin_decode_display\n",
    "import os\n",
    "from ipywidgets import HBox, VBox, Text, Layout"
   ]
  },
  {
   "cell_type": "markdown",
   "metadata": {},
   "source": [
    "### Video"
   ]
  },
  {
   "cell_type": "code",
   "execution_count": 3,
   "metadata": {},
   "outputs": [
    {
     "data": {
      "application/vnd.jupyter.widget-view+json": {
       "model_id": "4cfeaf37e90b44d089e111a3fc249795",
       "version_major": 2,
       "version_minor": 0
      },
      "text/plain": [
       "VideoSection(children=(RadioButtons(description='Video Codec:', options=('avc', 'hevc'), style=DescriptionStyl…"
      ]
     },
     "metadata": {},
     "output_type": "display_data"
    }
   ],
   "source": [
    "import ipywidgets as widgets\n",
    "\n",
    "class VideoSection(widgets.HBox):\n",
    "    def __init__(self, codec_options=['avc', 'hevc'], sink_options={'kmssink': ['DP', 'HDMI'], 'fakevideosink': ['none']}, decoder_options=['allegrodecIP0', 'allegrodecIP1', 'allegrodecIP2', 'allegrodecIP3']):\n",
    "        \n",
    "        # Initialize parent VBox\n",
    "        super().__init__()\n",
    "        \n",
    "        \n",
    "        # Initialize codec options\n",
    "        self.codec_options = codec_options\n",
    "        self.codec_type = widgets.RadioButtons(\n",
    "            options=self.codec_options,\n",
    "            description='Video Codec:',\n",
    "            style={'description_width': 'auto', 'button_width': '10px'}\n",
    "        )\n",
    "        \n",
    "        self.codec_type.observe(self._update_codec_type, names='value')\n",
    "        self.selected_codec = self.codec_type.value\n",
    "        \n",
    "        \n",
    "        # Initialize video sink options\n",
    "        self.sink_options = sink_options\n",
    "        self.sink_type = widgets.RadioButtons(\n",
    "            options=sorted(self.sink_options.keys(), key=lambda k: len(self.sink_options[k]), reverse=True),\n",
    "            value='fakevideosink',\n",
    "            description='Video Sink:',\n",
    "            style={'description_width': 'auto', 'button_width': '10px'}\n",
    "        )\n",
    "        \n",
    "        init = self.sink_type.value\n",
    "        self.display_type = widgets.RadioButtons(\n",
    "            #options=self.sink_options[self.sink_type.value],\n",
    "            options=self.sink_options[init], # Set default value to 'none'\n",
    "            description='Display:',\n",
    "            style={'description_width': 'auto', 'button_width': '10px'}\n",
    "        )\n",
    "        \n",
    "        # Initialize stream options\n",
    "        self.decoder_options = decoder_options\n",
    "        self.decoder_instance = widgets.RadioButtons(\n",
    "            options=self.decoder_options,\n",
    "            description='Dec Instance:',\n",
    "            style={'description_width': 'auto', 'button_width': '10px'},\n",
    "        )\n",
    "        #init1 = self.stream_type.value\n",
    "        #self.stream_num = widgets.RadioButtons(\n",
    "            #options=self.stream_options[self.stream_type.value],\n",
    "         #   options=self.stream_options[init1],\n",
    "          #  description='Instance:',\n",
    "           # style={'description_width': 'auto', 'button_width': '10px'}\n",
    "        #)\n",
    "        \n",
    "        # Define widget layout\n",
    "        self.layout = widgets.Layout(border='')\n",
    "        \n",
    "        # Add widgets to VBox\n",
    "        self.children = [self.codec_type, self.sink_type, self.display_type, self.decoder_instance]\n",
    "        \n",
    "        # Attach update functions\n",
    "        self.sink_type.observe(self._update_display_options, names='value')\n",
    "        #self.stream_type.observe(self._update_stream_options, names='value')\n",
    "        \n",
    "    def _update_display_options(self, change):\n",
    "        self.display_type.options = self.sink_options[self.sink_type.value]\n",
    "        \n",
    "    #def _update_stream_options(self, change):\n",
    "        #self.stream_num.options = self.stream_options[self.stream_type.value]\n",
    "        \n",
    "    #def get_codec_type(self):\n",
    "       # return self.codec_type.value\n",
    "        \n",
    "    def _update_codec_type(self, change):\n",
    "        self.selected_codec = self.codec_type.value\n",
    "        #self.selected_codec = change.new\n",
    "        \n",
    "    def get_codec_type(self):\n",
    "        return self.codec_type.value\n",
    "        \n",
    "        \n",
    "# Create first video section\n",
    "video1 = VideoSection()\n",
    "#video_sections = [video1]\n",
    "\n",
    "# Display first video section\n",
    "display(video1)\n",
    "\n",
    "\n",
    "\n"
   ]
  },
  {
   "cell_type": "markdown",
   "metadata": {},
   "source": [
    "### Advanced options:"
   ]
  },
  {
   "cell_type": "code",
   "execution_count": 4,
   "metadata": {
    "scrolled": true
   },
   "outputs": [
    {
     "data": {
      "application/vnd.jupyter.widget-view+json": {
       "model_id": "83457f7e23e848dab9243de2977adf9c",
       "version_major": 2,
       "version_minor": 0
      },
      "text/plain": [
       "AdvanceOption(children=(Text(value='', description='Kernel Recv Buf Size:', placeholder='(optional) 16000000',…"
      ]
     },
     "metadata": {},
     "output_type": "display_data"
    }
   ],
   "source": [
    "import ipywidgets as widgets\n",
    "from ipywidgets import HBox, VBox, Text, Layout\n",
    "class AdvanceOption(widgets.HBox):\n",
    "   def __init__(self):\n",
    "      super().__init__()\n",
    "      \n",
    "      self.kernel_recv_buffer_size = widgets.Text(value='',\n",
    "         placeholder='(optional) 16000000',\n",
    "         description='Kernel Recv Buf Size:',\n",
    "         style={'description_width': 'initial'},\n",
    "         #layout=Layout(width='33%', height='30px'),\n",
    "         disabled=False)\n",
    "      self.port_number=widgets.Text(value='',\n",
    "         placeholder='(optional) 50000, 42000',\n",
    "         description=r'Port No:',\n",
    "         #style={'description_width': 'initial'},\n",
    "         #\n",
    "         disabled=False)\n",
    "      \n",
    "      self.children = [self.kernel_recv_buffer_size, self.port_number]\n",
    "      self.layout = widgets.Layout(border='')\n",
    "   \n",
    "   def get_kernel_recv_buffer_size(self):\n",
    "      return self.kernel_recv_buffer_size.value\n",
    "   \n",
    "   def get_port_number(self):\n",
    "      return self.port_number.value\n",
    "   \n",
    "#kernel_recv_buffer_size\n",
    "advance_option = AdvanceOption()\n",
    "\n",
    "display(advance_option)"
   ]
  },
  {
   "cell_type": "code",
   "execution_count": 5,
   "metadata": {
    "scrolled": false
   },
   "outputs": [
    {
     "data": {
      "application/vnd.jupyter.widget-view+json": {
       "model_id": "a8eb49f986ae422bae586448d0490a60",
       "version_major": 2,
       "version_minor": 0
      },
      "text/plain": [
       "Button(button_style='success', description='Add more decoder', style=ButtonStyle())"
      ]
     },
     "metadata": {},
     "output_type": "display_data"
    }
   ],
   "source": [
    "# Add a new video section\n",
    "button = widgets.Button(description='Add more decoder', button_style='success')\n",
    "#def add_video_section(button):\n",
    "  #  video2 = VideoSection()\n",
    "   # display(video2)\n",
    "\n",
    "# Define a counter for the number of video sections\n",
    "count = 1\n",
    "\n",
    "# Initialize empty lists of input and video sections\n",
    "advance_options = [advance_option]\n",
    "#proxy_sections = [proxy_section]\n",
    "video_sections = [video1]\n",
    "\n",
    "\n",
    "\n",
    "# Display button section\n",
    "#display(widgets.VBox([video_container, button_widget]))\n",
    "# Define the add_video_section function with the counter\n",
    "def add_video_section(button):\n",
    "    global count\n",
    "    name = f'video{count+1}'\n",
    "    \n",
    "    # Create new instances of InputSection and VideoSection\n",
    "    A_Option = AdvanceOption()\n",
    "    #proxy = ProxySection()\n",
    "    video = VideoSection()\n",
    "    \n",
    "    #video._dom_classes = [name]  # set class name to object name\n",
    "    #display(video)\n",
    "    count += 1\n",
    "    \n",
    "    # Add the new instances to the existing lists\n",
    "    advance_options.append(A_Option)\n",
    "    #proxy_sections.append(proxy)\n",
    "    video_sections.append(video)\n",
    "    \n",
    "    \n",
    "    #display(proxy)\n",
    "    display(video)\n",
    "    display(A_Option)\n",
    "    \n",
    "    # Remove the previous button\n",
    "    button.layout.display = 'none'\n",
    "    \n",
    "    # Add a new button below the new video instance\n",
    "    new_button = widgets.Button(description='Add more decoder', button_style='success')\n",
    "    new_button.on_click(add_video_section)\n",
    "    if count <= 3:\n",
    "        display(new_button)\n",
    "\n",
    "\n",
    "button.on_click(add_video_section)\n",
    "display(button)\n"
   ]
  },
  {
   "cell_type": "code",
   "execution_count": 6,
   "metadata": {},
   "outputs": [
    {
     "data": {
      "application/vnd.jupyter.widget-view+json": {
       "model_id": "c1100c16545b4cb4aa2a0b75dc971bdc",
       "version_major": 2,
       "version_minor": 0
      },
      "text/plain": [
       "HBox(children=(Dropdown(description='Entropy Buffers Nos:', index=3, options=('2', '3', '4', '5', '6', '7', '8…"
      ]
     },
     "execution_count": 6,
     "metadata": {},
     "output_type": "execute_result"
    }
   ],
   "source": [
    "entropy_buffers=widgets.Dropdown(\n",
    "    options=['2', '3', '4', '5', '6', '7', '8', '9', '10', '11', '12', '13', '14', '15'],\n",
    "    value='5',\n",
    "    description='Entropy Buffers Nos:',\n",
    "    style={'description_width': 'initial'},\n",
    "    disabled=False,)\n",
    "show_fps=widgets.Checkbox(\n",
    "    value=False,\n",
    "    description='show-fps',\n",
    "    #style={'description_width': 'initial'},\n",
    "    disabled=False)\n",
    "HBox([entropy_buffers, show_fps])"
   ]
  },
  {
   "cell_type": "code",
   "execution_count": 7,
   "metadata": {},
   "outputs": [],
   "source": [
    "from IPython.display import clear_output\n",
    "from IPython.display import Javascript\n",
    "\n",
    "def run_all(ev):\n",
    "    display(Javascript('IPython.notebook.execute_cells_below()'))\n",
    "\n",
    "def clear_op(event):\n",
    "    clear_output(wait=True)\n",
    "    return\n",
    "\n",
    "button1 = widgets.Button(\n",
    "    description='Clear Output',\n",
    "    style= {'button_color':'lightgreen'},\n",
    "    #style= {'button_color':'lightgreen', 'description_width': 'initial'},\n",
    "    layout={'width': '300px'}\n",
    ")\n",
    "button2 = widgets.Button(\n",
    "    description='',\n",
    "    style= {'button_color':'white'},\n",
    "    #style= {'button_color':'lightgreen', 'description_width': 'initial'},\n",
    "    layout={'width': '38px'},\n",
    "    disabled=True\n",
    ")\n",
    "button1.on_click(run_all)\n",
    "button1.on_click(clear_op)"
   ]
  },
  {
   "cell_type": "code",
   "execution_count": 9,
   "metadata": {
    "scrolled": true
   },
   "outputs": [
    {
     "data": {
      "application/vnd.jupyter.widget-view+json": {
       "model_id": "684dc1bec6d04af9b5366e09b5c6fc9e",
       "version_major": 2,
       "version_minor": 0
      },
      "text/plain": [
       "HBox(children=(Button(description='click to start vdu-stream_in-decode-display demo', layout=Layout(width='350…"
      ]
     },
     "execution_count": 9,
     "metadata": {},
     "output_type": "execute_result"
    },
    {
     "name": "stdout",
     "output_type": "stream",
     "text": [
      "sh common_vdu_demo_streamin_decode_display.sh -p 5004 -c hevc -o fakevideosink -f -z allegrodecIP0\n",
      "No input buffer size specified hence using 60000000 as default size for kernel recieved buffer\n",
      "gst-launch-1.0 udpsrc port=5004 buffer-size=60000000 caps=\"application/x-rtp, media=video, clock-rate=90000, payload=96, encoding-name=H265\" ! rtpjitterbuffer latency=1000 ! queue ! rtph265depay ! h265parse ! omxh265dec device=/dev/allegroDecodeIP0 low-latency=1 ! queue max-size-bytes=0 ! fpsdisplaysink name=fpssink text-overlay=false video-sink=\"fakevideosink\" -v\n",
      "Setting pipeline to PAUSED ...\n",
      "Pipeline is live and does not need PREROLL ...\n",
      "/GstPipeline:pipeline0/GstFPSDisplaySink:fpssink/GstFakeVideoSink:fakevideosink0/GstFakeSink:sink: sync = true\n",
      "Pipeline is PREROLLED ...\n",
      "Setting pipeline to PLAYING ...\n",
      "/GstPipeline:pipeline0/GstUDPSrc:udpsrc0.GstPad:src: caps = application/x-rtp, media=(string)video, clock-rate=(int)90000, payload=(int)96, encoding-name=(string)H265\n",
      "/GstPipeline:pipeline0/GstRtpJitterBuffer:rtpjitterbuffer0.GstPad:sink: caps = application/x-rtp, media=(string)video, clock-rate=(int)90000, payload=(int)96, encoding-name=(string)H265\n",
      "New clock: GstSystemClock\n",
      "/GstPipeline:pipeline0/GstRtpJitterBuffer:rtpjitterbuffer0.GstPad:src: caps = application/x-rtp, media=(string)video, clock-rate=(int)90000, payload=(int)96, encoding-name=(string)H265\n",
      "/GstPipeline:pipeline0/GstQueue:queue0.GstPad:sink: caps = application/x-rtp, media=(string)video, clock-rate=(int)90000, payload=(int)96, encoding-name=(string)H265\n",
      "/GstPipeline:pipeline0/GstQueue:queue0.GstPad:src: caps = application/x-rtp, media=(string)video, clock-rate=(int)90000, payload=(int)96, encoding-name=(string)H265\n",
      "/GstPipeline:pipeline0/GstRtpH265Depay:rtph265depay0.GstPad:src: caps = video/x-h265, stream-format=(string)byte-stream, alignment=(string)au\n",
      "/GstPipeline:pipeline0/GstH265Parse:h265parse0.GstPad:sink: caps = video/x-h265, stream-format=(string)byte-stream, alignment=(string)au\n",
      "/GstPipeline:pipeline0/GstRtpH265Depay:rtph265depay0.GstPad:sink: caps = application/x-rtp, media=(string)video, clock-rate=(int)90000, payload=(int)96, encoding-name=(string)H265\n"
     ]
    }
   ],
   "source": [
    "import subprocess \n",
    "import time\n",
    "\n",
    "def start_demo(event):\n",
    "    audio_codec = 'none'\n",
    "    audio_sink = 'none'\n",
    "    #clear_output(wait=True)\n",
    "    print_process = 0\n",
    "    arg = [];\n",
    "    arg1 = [];\n",
    "    arg2 = [];\n",
    "    arg3 = [];\n",
    "    arg = common_vdu_demo_streamin_decode_display.cmd_line_args_generator(advance_option.port_number.value, video1.codec_type.value, audio_codec, video1.display_type.value, advance_option.kernel_recv_buffer_size.value, video1.sink_type.value, entropy_buffers.value, show_fps.value, audio_sink, video1.decoder_instance.value);\n",
    "    cmd1 = \"sh vdu-demo-streamin-decode-display.sh {} 2>&1\".format(arg)\n",
    "    process1 = subprocess.Popen(cmd1, shell=True, stdout=subprocess.PIPE, stderr=subprocess.STDOUT, universal_newlines=True)\n",
    "    if count >= 2:\n",
    "        arg1 = common_vdu_demo_streamin_decode_display.cmd_line_args_generator(advance_options[1].port_number.value, video_sections[1].codec_type.value, audio_codec, video_sections[1].display_type.value, advance_options[1].kernel_recv_buffer_size.value, video_sections[1].sink_type.value, entropy_buffers.value, show_fps.value, audio_sink, video_sections[1].decoder_instance.value);\n",
    "        cmd2 = \"sh vdu-demo-streamin-decode-display.sh {} 2>&1\".format(arg1)\n",
    "        process2 = subprocess.Popen(cmd2, shell=True, stdout=subprocess.PIPE, stderr=subprocess.STDOUT, universal_newlines=True)\n",
    "    if count >= 3:\n",
    "        arg2 = common_vdu_demo_streamin_decode_display.cmd_line_args_generator(advance_options[2].port_number.value, video_sections[2].codec_type.value, audio_codec, video_sections[2].display_type.value, advance_options[2].kernel_recv_buffer_size.value, video_sections[2].sink_type.value, entropy_buffers.value, show_fps.value, audio_sink, video_sections[2].decoder_instance.value);\n",
    "        cmd3 = \"sh vdu-demo-streamin-decode-display.sh {} 2>&1\".format(arg2)\n",
    "        process3 = subprocess.Popen(cmd3, shell=True, stdout=subprocess.PIPE, stderr=subprocess.STDOUT, universal_newlines=True)\n",
    "    if count >= 4:\n",
    "        arg3 = common_vdu_demo_streamin_decode_display.cmd_line_args_generator(advance_options[3].port_number.value, video_sections[3].codec_type.value, audio_codec, video_sections[3].display_type.value, advance_options[3].kernel_recv_buffer_size.value, video_sections[3].sink_type.value, entropy_buffers.value, show_fps.value, audio_sink, video_sections[3].decoder_instance.value);\n",
    "        cmd4 = \"sh vdu-demo-streamin-decode-display.sh {} 2>&1\".format(arg3)\n",
    "        process4 = subprocess.Popen(cmd4, shell=True, stdout=subprocess.PIPE, stderr=subprocess.STDOUT, universal_newlines=True)\n",
    "    for line in process1.stdout:\n",
    "        if print_process == 1:\n",
    "            print(\"----------------->Process 1 output:<---------------\")\n",
    "        print(line.strip())\n",
    "        if count >= 2:\n",
    "            print_process = 1\n",
    "            print(\"----------------->Process 2 Output:<---------------\")\n",
    "            for line in process2.stdout:\n",
    "                print(line.strip())\n",
    "                break\n",
    "        if count >= 3:\n",
    "            print(\"----------------->Process 3 Output:<---------------\")\n",
    "            for line in process3.stdout:\n",
    "                print(line.strip())\n",
    "                break\n",
    "        if count >= 4:\n",
    "            print(\"----------------->Process 4 Output:<---------------\")\n",
    "            for line in process4.stdout:\n",
    "                print(line.strip())\n",
    "                break\n",
    "    return\n",
    "\n",
    "button = widgets.Button(\n",
    "    description='click to start vdu-stream_in-decode-display demo',\n",
    "    style= {'button_color':'lightgreen'},\n",
    "    #style= {'button_color':'lightgreen', 'description_width': 'initial'},\n",
    "    layout={'width': '350px'}\n",
    ")\n",
    "button.on_click(start_demo)\n",
    "HBox([button, button2, button1])"
   ]
  },
  {
   "cell_type": "markdown",
   "metadata": {},
   "source": [
    "# References\n",
    "[1] https://xilinx-wiki.atlassian.net/wiki/spaces/A/pages/18842546/Xilinx+Video+Codec+Unit\n",
    "\n",
    "[2] https://www.xilinx.com/support.html#documentation (Refer to PG252)"
   ]
  }
 ],
 "metadata": {
  "kernelspec": {
   "display_name": "Python 3 (ipykernel)",
   "language": "python",
   "name": "python3"
  },
  "language_info": {
   "codemirror_mode": {
    "name": "ipython",
    "version": 3
   },
   "file_extension": ".py",
   "mimetype": "text/x-python",
   "name": "python",
   "nbconvert_exporter": "python",
   "pygments_lexer": "ipython3",
   "version": "3.10.6"
  }
 },
 "nbformat": 4,
 "nbformat_minor": 2
}
